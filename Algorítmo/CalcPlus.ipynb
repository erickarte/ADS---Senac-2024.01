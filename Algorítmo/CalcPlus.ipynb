{
 "cells": [
  {
   "cell_type": "code",
   "execution_count": 4,
   "metadata": {},
   "outputs": [],
   "source": [
    "def soma(n1, n2):\n",
    "    return n1+n2\n",
    "def subtrai(n1, n2):\n",
    "    return n1-n2\n",
    "def multiplica(n1, n2):\n",
    "    return n1*n2\n",
    "def divide(n1, n2):\n",
    "    return n1/n2"
   ]
  },
  {
   "cell_type": "code",
   "execution_count": 15,
   "metadata": {},
   "outputs": [
    {
     "name": "stdout",
     "output_type": "stream",
     "text": [
      "O resultado da soma é: 20.0\n"
     ]
    }
   ],
   "source": [
    "while (calc == \"1\"):\n",
    "    print(\"+===================+\")\n",
    "    print(\"| MENU DE OPERAÇÕES  \")\n",
    "    print(\"| 1 - somar          \")\n",
    "    print(\"| 2 - subtrair       \")\n",
    "    print(\"| 3 - multiplicar    \")\n",
    "    print(\"| 4 - dividir        \")\n",
    "    print(\"| 0 - sair           \")\n",
    "    print(\"+===================+\")\n",
    "    \n",
    "    op = int(input(\"Digite a operação desejada\"))\n",
    "    \n",
    "    if (op!=0 and op!=1 and op!=2 and op!=3 and op!=4):\n",
    "        print(\"Operação inválida\")\n",
    "        break\n",
    "    elif (op==0):\n",
    "        print(\"Fim da calculadora\")\n",
    "        break\n",
    "\n",
    "    else:\n",
    "        n1 = float(input(\"Primeiro número: \"))\n",
    "        n2 = float(input(\"Segundo número:\"))\n",
    "    calc = input(\"Deseja fazer uma operação? Digite: 1 - SIM | 2 - NÃO.\")\n",
    "\n",
    "if op==1:\n",
    "    print(\"O resultado da soma é:\", soma(n1, n2))\n",
    "elif op==2:\n",
    "    print(\"O resultado da subtração é:\", subtrai(n1, n2))\n",
    "elif op==3:\n",
    "    print(\"O resultado da multiplicação é:\", multiplica(n1, n2))\n",
    "else:\n",
    "    print(\"O resultado da divisão é:\", divide(n1, n2))"
   ]
  }
 ],
 "metadata": {
  "kernelspec": {
   "display_name": "Python 3",
   "language": "python",
   "name": "python3"
  },
  "language_info": {
   "codemirror_mode": {
    "name": "ipython",
    "version": 3
   },
   "file_extension": ".py",
   "mimetype": "text/x-python",
   "name": "python",
   "nbconvert_exporter": "python",
   "pygments_lexer": "ipython3",
   "version": "3.11.9"
  }
 },
 "nbformat": 4,
 "nbformat_minor": 2
}
