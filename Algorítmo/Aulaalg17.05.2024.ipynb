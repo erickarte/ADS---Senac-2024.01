{
 "cells": [
  {
   "cell_type": "code",
   "execution_count": 21,
   "metadata": {},
   "outputs": [
    {
     "name": "stdout",
     "output_type": "stream",
     "text": [
      "5 patinhos foram passear \n",
      "Além das montanhas para brincar \n",
      "A mamãe gritou: Quá, Quá, Quá, Quá\n",
      "Mas só 4 patinhos voltaram de lá.\n",
      "4 patinhos foram passear \n",
      "Além das montanhas para brincar \n",
      "A mamãe gritou: Quá, Quá, Quá, Quá\n",
      "Mas só 3 patinhos voltaram de lá.\n",
      "3 patinhos foram passear \n",
      "Além das montanhas para brincar \n",
      "A mamãe gritou: Quá, Quá, Quá, Quá\n",
      "Mas só 2 patinhos voltaram de lá.\n",
      "2 patinhos foram passear \n",
      "Além das montanhas para brincar \n",
      "A mamãe gritou: Quá, Quá, Quá, Quá\n",
      "Mas só 1 patinhos voltaram de lá.\n",
      "1 patinhos foram passear \n",
      "Além das montanhas para brincar \n",
      "A mamãe gritou: Quá, Quá, Quá, Quá\n",
      "Mas só 5 patinhos voltaram de lá.\n"
     ]
    }
   ],
   "source": [
    "n = 1, 2, 3, 4, 5\n",
    "indice = 4\n",
    "while indice in range (len(n)):\n",
    "    print ( n[indice],\"patinhos foram passear\", \"\\nAlém das montanhas para brincar\", \"\\nA mamãe gritou: Quá, Quá, Quá, Quá\")\n",
    "    indice -=1\n",
    "    print (\"Mas só\", n[indice],\"patinhos voltaram de lá.\")"
   ]
  },
  {
   "cell_type": "code",
   "execution_count": 41,
   "metadata": {},
   "outputs": [
    {
     "name": "stdout",
     "output_type": "stream",
     "text": [
      "5 X 1 = 5\n",
      "5 X 2 = 10\n",
      "5 X 3 = 15\n",
      "5 X 4 = 20\n",
      "5 X 5 = 25\n",
      "5 X 6 = 30\n",
      "5 X 7 = 35\n",
      "5 X 8 = 40\n",
      "5 X 9 = 45\n",
      "5 X 10 = 50\n"
     ]
    }
   ],
   "source": [
    "n = int(input(\"digite o número desejado para a tabuada\"))\n",
    "for elemento in (1, 2, 3, 4, 5, 6, 7, 8, 9, 10):\n",
    "    print(n, \"X\", elemento, \"=\", n*elemento)"
   ]
  }
 ],
 "metadata": {
  "kernelspec": {
   "display_name": "Python 3",
   "language": "python",
   "name": "python3"
  },
  "language_info": {
   "codemirror_mode": {
    "name": "ipython",
    "version": 3
   },
   "file_extension": ".py",
   "mimetype": "text/x-python",
   "name": "python",
   "nbconvert_exporter": "python",
   "pygments_lexer": "ipython3",
   "version": "3.11.9"
  }
 },
 "nbformat": 4,
 "nbformat_minor": 2
}
