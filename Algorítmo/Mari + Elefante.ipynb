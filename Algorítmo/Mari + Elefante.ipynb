{
 "cells": [
  {
   "cell_type": "code",
   "execution_count": 2,
   "metadata": {},
   "outputs": [
    {
     "name": "stdout",
     "output_type": "stream",
     "text": [
      "Mariana conta 1 \n",
      "Mariana conta 1 Mariana conta 1 \n",
      "é \n",
      "Ana, viva a Mariana, viva a Mariana\n",
      "Mariana conta 2 \n",
      "Mariana conta 2 Mariana conta 2 \n",
      "é \n",
      "Ana, viva a Mariana, viva a Mariana\n",
      "Mariana conta 3 \n",
      "Mariana conta 3 Mariana conta 3 \n",
      "é \n",
      "Ana, viva a Mariana, viva a Mariana\n",
      "Mariana conta 4 \n",
      "Mariana conta 4 Mariana conta 4 \n",
      "é \n",
      "Ana, viva a Mariana, viva a Mariana\n",
      "Mariana conta 5 \n",
      "Mariana conta 5 Mariana conta 5 \n",
      "é \n",
      "Ana, viva a Mariana, viva a Mariana\n",
      "Mariana conta 6 \n",
      "Mariana conta 6 Mariana conta 6 \n",
      "é \n",
      "Ana, viva a Mariana, viva a Mariana\n",
      "Mariana conta 7 \n",
      "Mariana conta 7 Mariana conta 7 \n",
      "é \n",
      "Ana, viva a Mariana, viva a Mariana\n",
      "Mariana conta 8 \n",
      "Mariana conta 8 Mariana conta 8 \n",
      "é \n",
      "Ana, viva a Mariana, viva a Mariana\n",
      "Mariana conta 9 \n",
      "Mariana conta 9 Mariana conta 9 \n",
      "é \n",
      "Ana, viva a Mariana, viva a Mariana\n",
      "Mariana conta 10 \n",
      "Mariana conta 10 Mariana conta 10 \n",
      "é \n",
      "Ana, viva a Mariana, viva a Mariana\n"
     ]
    }
   ],
   "source": [
    "mari = []\n",
    "\n",
    "for num in range(1, 11):\n",
    "    conta.append(str(num))\n",
    "   \n",
    "    print('Mariana conta', num,'\\nMariana conta', num,'Mariana conta', num,'\\né',' , é '.join(mari))\n",
    "    print ('Ana, viva a Mariana, viva a Mariana')"
   ]
  },
  {
   "cell_type": "code",
   "execution_count": 4,
   "metadata": {},
   "outputs": [
    {
     "name": "stdout",
     "output_type": "stream",
     "text": [
      "1 elefante incomoda muita gente\n",
      "2 elefantes  incomodam, incomodam,  muito mais!\n",
      "3 elefantes  incomodam muita gente!\n",
      "1 elefantes incomodam, incomodam, incomodam, incomodam,  muito mais!\n",
      "5 elefantes  incomodam muita gente!\n",
      "1 elefantes incomodam, incomodam, incomodam, incomodam, incomodam, incomodam,  muito mais!\n",
      "7 elefantes  incomodam muita gente!\n",
      "1 elefantes incomodam, incomodam, incomodam, incomodam, incomodam, incomodam, incomodam, incomodam,  muito mais!\n",
      "9 elefantes  incomodam muita gente!\n",
      "1 elefantes incomodam, incomodam, incomodam, incomodam, incomodam, incomodam, incomodam, incomodam, incomodam, incomodam,  muito mais!\n",
      "9 elefantes  incomodam muita gente!\n",
      "8 elefantes incomodam, incomodam, incomodam, incomodam, incomodam, incomodam, incomodam, incomodam,  muito menos!\n",
      "7 elefantes  incomodam muita gente!\n",
      "6 elefantes incomodam, incomodam, incomodam, incomodam, incomodam, incomodam,  muito menos!\n",
      "5 elefantes  incomodam muita gente!\n",
      "4 elefantes incomodam, incomodam, incomodam, incomodam,  muito menos!\n",
      "3 elefantes  incomodam muita gente!\n",
      "2 elefantes  incomodam, incomodam,  muito mais!\n",
      "1 elefante incomoda muita gente\n"
     ]
    }
   ],
   "source": [
    "incomodam = 'incomodam, '\n",
    "\n",
    "for cres in range(1, 11):\n",
    "    if cres % 2 == 0:\n",
    "        if cres == 2:\n",
    "             print(cres, 'elefantes ', incomodam * cres  , 'muito mais!')\n",
    "        else:\n",
    "            print(i, 'elefantes',  incomodam * cres ,'muito mais!')\n",
    "        \n",
    "    else:\n",
    "        if cres == 1:\n",
    "            print(cres, 'elefante incomoda muita gente')\n",
    "        else:\n",
    "            print(cres, 'elefantes  incomodam muita gente!')\n",
    "\n",
    "for decres in reversed(range(1, 10)):\n",
    "    if decres % 2 == 0:\n",
    "        if decres == 2:\n",
    "             print(decres, 'elefantes ', incomodam * decres  , 'muito mais!')\n",
    "        else:\n",
    "            print(decres, 'elefantes',  incomodam * decres ,'muito menos!')\n",
    "        \n",
    "    else:\n",
    "        if decres == 1:\n",
    "            print(decres, 'elefante incomoda muita gente')\n",
    "        else:\n",
    "            print(decres, 'elefantes  incomodam muita gente!')"
   ]
  }
 ],
 "metadata": {
  "kernelspec": {
   "display_name": "Python 3",
   "language": "python",
   "name": "python3"
  },
  "language_info": {
   "codemirror_mode": {
    "name": "ipython",
    "version": 3
   },
   "file_extension": ".py",
   "mimetype": "text/x-python",
   "name": "python",
   "nbconvert_exporter": "python",
   "pygments_lexer": "ipython3",
   "version": "3.11.9"
  }
 },
 "nbformat": 4,
 "nbformat_minor": 2
}
