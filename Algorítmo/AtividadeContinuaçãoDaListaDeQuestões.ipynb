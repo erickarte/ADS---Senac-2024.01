{
 "cells": [
  {
   "cell_type": "code",
   "execution_count": 1,
   "metadata": {},
   "outputs": [],
   "source": [
    "#solicitando primeiro numero inteiro ao usuário\n",
    "num1 = int(input('Digite um número inteiro'))"
   ]
  },
  {
   "cell_type": "code",
   "execution_count": 3,
   "metadata": {},
   "outputs": [],
   "source": [
    "#solicitando segundo numero inteiro\n",
    "num2 = int(input('Digite outro número inteiro'))"
   ]
  },
  {
   "cell_type": "code",
   "execution_count": 4,
   "metadata": {},
   "outputs": [],
   "source": [
    "#solicitando numero real ao usuario\n",
    "num3 = float(input('Digite o último número'))"
   ]
  },
  {
   "cell_type": "code",
   "execution_count": 9,
   "metadata": {},
   "outputs": [
    {
     "name": "stdout",
     "output_type": "stream",
     "text": [
      "600.0\n"
     ]
    }
   ],
   "source": [
    "# mostrando o produto do dobro do primeiro pela metade do segundo\n",
    "print((2*num1)*(num2/2))"
   ]
  },
  {
   "cell_type": "code",
   "execution_count": 11,
   "metadata": {},
   "outputs": [
    {
     "name": "stdout",
     "output_type": "stream",
     "text": [
      "1403.99 e 2509855872.9776993\n"
     ]
    }
   ],
   "source": [
    "# mostrando A soma do triplo do primeiro com o terceiro. o terceiro elevado ao cubo\n",
    "print((3*num1) + num3,'e', num3**3)"
   ]
  },
  {
   "cell_type": "code",
   "execution_count": 18,
   "metadata": {},
   "outputs": [],
   "source": [
    "# pedindo um numero ao usuario\n",
    "num4 = int(input('Digite um número'))"
   ]
  },
  {
   "cell_type": "code",
   "execution_count": 19,
   "metadata": {},
   "outputs": [],
   "source": [
    "# pedindo o segundo numero ao usuario\n",
    "num5 = int(input('Digite o segundo número'))"
   ]
  },
  {
   "cell_type": "code",
   "execution_count": 20,
   "metadata": {},
   "outputs": [
    {
     "name": "stdout",
     "output_type": "stream",
     "text": [
      "Os números são iguais\n"
     ]
    }
   ],
   "source": [
    "# imprimindo o maior deles\n",
    "if(num4 > num5):\n",
    "    print(num4)\n",
    "elif(num5 > num4):\n",
    "    print (num5)\n",
    "else:\n",
    "    print('Os números são iguais.')"
   ]
  },
  {
   "cell_type": "code",
   "execution_count": 25,
   "metadata": {},
   "outputs": [],
   "source": [
    "#pedindo valor ao usuario\n",
    "num6 = int(input('Digite um valor.'))"
   ]
  },
  {
   "cell_type": "code",
   "execution_count": 26,
   "metadata": {},
   "outputs": [
    {
     "name": "stdout",
     "output_type": "stream",
     "text": [
      "O valor é positivo.\n"
     ]
    }
   ],
   "source": [
    "#mostrando se o valor é positivo ou negativo\n",
    "if(num6 >= 0):\n",
    "    print('O valor é positivo.')\n",
    "else:\n",
    "    print('O valor é negativo.')"
   ]
  },
  {
   "cell_type": "code",
   "execution_count": 27,
   "metadata": {},
   "outputs": [],
   "source": [
    "# solicitando primeira nota\n",
    "nota1 = float(input('Digite a primeira nota do aluno.'))"
   ]
  },
  {
   "cell_type": "code",
   "execution_count": 28,
   "metadata": {},
   "outputs": [],
   "source": [
    "# solicitando a segunda nota\n",
    "nota2 = float(input('Digite a segunda nota do aluno.'))"
   ]
  },
  {
   "cell_type": "code",
   "execution_count": 29,
   "metadata": {},
   "outputs": [
    {
     "name": "stdout",
     "output_type": "stream",
     "text": [
      "8.05\n"
     ]
    }
   ],
   "source": [
    "# mostrandoa média das notas\n",
    "print ((nota1+nota2)/2)"
   ]
  },
  {
   "cell_type": "code",
   "execution_count": 34,
   "metadata": {},
   "outputs": [],
   "source": [
    "# pedindo numeros ao usuario\n",
    "num7 = int(input('Digite o um número inteiro.'))\n",
    "num8 = int(input('Digite o segundo número inteiro'))\n",
    "num9 = int(input('Digite o último número'))"
   ]
  },
  {
   "cell_type": "code",
   "execution_count": 35,
   "metadata": {},
   "outputs": [
    {
     "name": "stdout",
     "output_type": "stream",
     "text": [
      "O maior número é o número: 80\n"
     ]
    }
   ],
   "source": [
    "# mostrando qual o maior deles\n",
    "if(num7 > num8 and num7 > num9):\n",
    "    print ('O maior número é o número:', num7)\n",
    "elif(num8 > num7 and num8 > num9):\n",
    "    print('O maior número é o número:', num8)\n",
    "else:\n",
    "    print('O maior número é o número:', num9)"
   ]
  }
 ],
 "metadata": {
  "kernelspec": {
   "display_name": "Python 3",
   "language": "python",
   "name": "python3"
  },
  "language_info": {
   "codemirror_mode": {
    "name": "ipython",
    "version": 3
   },
   "file_extension": ".py",
   "mimetype": "text/x-python",
   "name": "python",
   "nbconvert_exporter": "python",
   "pygments_lexer": "ipython3",
   "version": "3.11.9"
  }
 },
 "nbformat": 4,
 "nbformat_minor": 2
}
