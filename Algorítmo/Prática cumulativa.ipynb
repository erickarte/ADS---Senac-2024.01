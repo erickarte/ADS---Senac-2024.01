{
 "cells": [
  {
   "cell_type": "code",
   "execution_count": 1,
   "metadata": {},
   "outputs": [
    {
     "name": "stdout",
     "output_type": "stream",
     "text": [
      "Essa letra é uma consoante.\n"
     ]
    }
   ],
   "source": [
    "# 1\n",
    "# pedindo a letra ao usuario e guardando numa variavel\n",
    "letra = input(\"Digite uma letra\")\n",
    "# colocando na condicional se é vogal ou não e imprmindo\n",
    "if(letra == \"a\" or letra == \"e\" or letra == \"i\" or letra == \"o\" or letra == \"u\" or letra == \"A\" or letra == \"E\" or letra == \"I\" or letra == \"O\" or letra == \"U\"):\n",
    "    print(\"Essa letra é uma vogal.\")\n",
    "else:\n",
    "    print(\"Essa letra é uma consoante.\")"
   ]
  },
  {
   "cell_type": "code",
   "execution_count": 4,
   "metadata": {},
   "outputs": [
    {
     "name": "stdout",
     "output_type": "stream",
     "text": [
      "O produto que você deve comprar é o terceiro, com valor de R$ 5\n"
     ]
    }
   ],
   "source": [
    "#2\n",
    "# solicitando o valor do produto e guardando numa variavel\n",
    "prod1 = int(input(\"Digite o valor do primeiro produto.\"))\n",
    "prod2 = int(input(\"Digite o valor do segundoo produto.\"))\n",
    "prod3 = int(input(\"Digite o valor do últimoo produto.\"))\n",
    "# comparando os preços e imprimindo\n",
    "if(prod1<prod2 and prod1<prod3):\n",
    "    print(\"O produto que você deve comprar é o primeiro com valor de R$\", prod1)\n",
    "elif(prod2<prod1 and prod2<prod3):\n",
    "    print(\"O produto que você deve comprar é o segundoo com valor de R$\", prod2)\n",
    "else:\n",
    "    print(\"O produto que você deve comprar é o terceiro, com valor de R$\", prod3)"
   ]
  },
  {
   "cell_type": "code",
   "execution_count": 7,
   "metadata": {},
   "outputs": [
    {
     "name": "stdout",
     "output_type": "stream",
     "text": [
      "A ordem decrescente dos números é: 10 15 20\n"
     ]
    }
   ],
   "source": [
    "# 3\n",
    "# pedindo os numeros ao usuario e guardando na variavel\n",
    "num1 = int(input(\"Digite o primeiro número.\"))\n",
    "num2 = int(input(\"Digite o segundo número.\"))\n",
    "num3 = int(input(\"Digite o últimoo número.\"))\n",
    "# comparando com as condicionais e imprmindo\n",
    "if(num1<num2 and num1<num3 and num2<num3):\n",
    "    print(\"A ordem decrescente dos números é:\", num1, num2, num3)\n",
    "elif(num2<num1 and num2<num3 and num3<num1):\n",
    "    print(\"A ordem decrescente dos números é:\", num2, num3, num1)\n",
    "elif(num3<num1 and num3<num2 and num1<num2):\n",
    "    print(\"A ordem decrescente dos números é:\", num3, num1, num2)\n",
    "elif(num1<num3 and num1<num2 and num3<num2):\n",
    "    print(\"A ordem decrescente dos números é:\", num1, num3, num2)\n",
    "elif(num2<num1 and num2<num3 and num1<num3):\n",
    "    print(\"A ordem decrescente dos números é:\", num2, num1, num3)\n",
    "else:\n",
    "    print(\"A ordem decrescente dos números é:\", num3, num2, num1)\n",
    "    "
   ]
  },
  {
   "cell_type": "code",
   "execution_count": 19,
   "metadata": {},
   "outputs": [
    {
     "name": "stdout",
     "output_type": "stream",
     "text": [
      "Boa noite\n"
     ]
    }
   ],
   "source": [
    "# 4\n",
    "# solicitando a informação ao usuario\n",
    "turno = input(\"Digite o turno que você estuda: M - Matutino V - Vespertino N - Noturno\")\n",
    "# colocando na condicional para a informação correte e imprimindo\n",
    "if(turno == \"M\" or turno == \"m\"):\n",
    "    print(\"Bom Dia\")\n",
    "elif(turno == \"V\" or turno == \"v\"):\n",
    "    print(\"Boa Tarde\")\n",
    "elif(turno == \"N\" or turno == \"n\"):\n",
    "    print(\"Boa noite\")\n",
    "else:\n",
    "    print(\"Valor inválido\")"
   ]
  },
  {
   "cell_type": "code",
   "execution_count": 29,
   "metadata": {},
   "outputs": [
    {
     "name": "stdout",
     "output_type": "stream",
     "text": [
      "Valor inválido\n"
     ]
    }
   ],
   "source": [
    "# 5\n",
    "# pedindo a informação ao usuario\n",
    "dia = input(\"Digite o número referente ao dia da semana que você deseja saber.\")\n",
    "# colocando na condicional para imprimir a resposta correta\n",
    "if(dia == \"1\"):\n",
    "    print(\"Domingo\")\n",
    "elif(dia == \"2\"):\n",
    "    print(\"Segunda-Feira\")\n",
    "elif(dia == \"3\"):\n",
    "    print(\"Terça-Feira\")\n",
    "elif(dia == \"4\"):\n",
    "    print(\"Quarta-Feira\")\n",
    "elif(dia == \"5\"):\n",
    "    print(\"Quinta-Feira\")\n",
    "elif(dia == \"6\"):\n",
    "    print(\"Sexta-Feira\")\n",
    "elif(dia == \"7\"):\n",
    "    print(\"Sábado\")\n",
    "else:\n",
    "    print(\"Valor inválido\")"
   ]
  },
  {
   "cell_type": "code",
   "execution_count": 10,
   "metadata": {},
   "outputs": [
    {
     "name": "stdout",
     "output_type": "stream",
     "text": [
      " O aluno com notas 3.9 e 3.9 , tem média igual a: 3.9 , seu conceito é: E, ele foi Reprovado\n"
     ]
    }
   ],
   "source": [
    "# 6\n",
    "# solicitando as notas ao usuario e guardando numa variavel\n",
    "nota1 = float(input(\"Digite a primeira nota do aluno.\"))\n",
    "nota2 = float(input(\"Digite a segunda nota do aluno.\"))\n",
    "# calculando a média das notas\n",
    "med = (nota1+nota2)/2\n",
    "# colocando na condicional e imprimindo o que foi solicitado\n",
    "if(med >=9 and med <= 10):\n",
    "    print(\" O aluno com notas\", nota1, \"e\", nota2, \", tem média igual a:\", med,\", seu conceito é: A, ele foi Aprovado\")\n",
    "elif(med >= 7.5 and med < 9):\n",
    "    print(\" O aluno com notas\", nota1, \"e\", nota2, \", tem média igual a:\", med,\", seu conceito é: B, ele foi Aprovado\")\n",
    "elif(med >= 6 and med < 7.5):\n",
    "    print(\" O aluno com notas\", nota1, \"e\", nota2, \", tem média igual a:\", med,\", seu conceito é: C, ele foi Aprovado\")\n",
    "elif(med >= 4 and med < 6):\n",
    "    print(\" O aluno com notas\", nota1, \"e\", nota2, \", tem média igual a:\", med,\", seu conceito é: D, ele foi Reprovado\")\n",
    "else:\n",
    "    print(\" O aluno com notas\", nota1, \"e\", nota2, \", tem média igual a:\", med,\", seu conceito é: E, ele foi Reprovado\")"
   ]
  },
  {
   "cell_type": "code",
   "execution_count": null,
   "metadata": {},
   "outputs": [],
   "source": [
    "# 7\n",
    "year = int(input(\"Enter a year: \"))\n",
    "\n",
    "if (year % 400 == 0) and (year % 100 == 0):\n",
    "    print(\"The year is a leap year!\")\n",
    "elif (year % 4 == 0) and (year % 100 != 0):\n",
    "    print(\"The year is a leap year!\")\n",
    "else:\n",
    "    print(\"The year is not a leap year!\")"
   ]
  },
  {
   "cell_type": "code",
   "execution_count": 20,
   "metadata": {},
   "outputs": [
    {
     "name": "stdout",
     "output_type": "stream",
     "text": [
      "9.0\n"
     ]
    }
   ],
   "source": [
    "# 8\n",
    "# pedindo ao usuario os numeros e a operação desejada\n",
    "val1 = float(input(\"Digite o primeiro valor.\"))\n",
    "val2 = float(input(\"Didite o segundo valor.\"))\n",
    "op = input(\"Qual operação você deseja fazer? Digite: 1 - Soma 2 - Subtração 3 - Multiplicação 4 - Divisão 5 - exponeciação.\")\n",
    "# realizando as operações\n",
    "if(op == \"1\"):\n",
    "    res = print(val1 + val2)\n",
    "elif(op == \"2\"):\n",
    "    res = print(val1 - val2)\n",
    "elif(op == \"3\"):\n",
    "    res = print(val1 * val2)\n",
    "elif(op == \"4\"):\n",
    "    res = print(val1 / val2)\n",
    "else:\n",
    "    res = print(val1 ** val2)"
   ]
  },
  {
   "cell_type": "code",
   "execution_count": null,
   "metadata": {},
   "outputs": [],
   "source": [
    "# 9"
   ]
  },
  {
   "cell_type": "code",
   "execution_count": 25,
   "metadata": {},
   "outputs": [
    {
     "name": "stdout",
     "output_type": "stream",
     "text": [
      "O número 2 é primo\n"
     ]
    }
   ],
   "source": [
    "# 10\n",
    "# Solicitando número ao usuário\n",
    "num = int(input(\"Digite um número para saber se é primo.\"))\n",
    "# colocando na condicional e comparando\n",
    "if num > 1:\n",
    "    for x in range(2, num):\n",
    "        resto = num % x\n",
    "        if resto == 0:\n",
    "            print(f'O número {num} não é primo')\n",
    "            break\n",
    "    else:\n",
    "        print(f'O número {num} é primo')\n",
    "else:\n",
    "    print(f'O número {num} não é primo')"
   ]
  },
  {
   "cell_type": "code",
   "execution_count": null,
   "metadata": {},
   "outputs": [],
   "source": [
    "# 11"
   ]
  },
  {
   "cell_type": "code",
   "execution_count": null,
   "metadata": {},
   "outputs": [],
   "source": [
    "# 12"
   ]
  },
  {
   "cell_type": "code",
   "execution_count": null,
   "metadata": {},
   "outputs": [],
   "source": [
    "# 13"
   ]
  },
  {
   "cell_type": "code",
   "execution_count": 23,
   "metadata": {},
   "outputs": [
    {
     "name": "stdout",
     "output_type": "stream",
     "text": [
      "Olá erick você tem 42 anos de idade, você irá se aposentar em: 2047\n"
     ]
    }
   ],
   "source": [
    "# 14\n",
    "# importando modulo de data\n",
    "from datetime import date\n",
    "# pedindo ao usuarios as informações pessoais e guardando na variavel\n",
    "nome = input(\"Qual o seu nome?\")\n",
    "idade = int(input(\"Qual a sua idade\"))\n",
    "# chamando e definindo o modulo\n",
    "data_atual = date.today()\n",
    "year = data_atual.year\n",
    "# imprimindo o resultado\n",
    "print(\"Olá\", nome, \"você tem\", idade, \"anos de idade, você irá se aposentar em:\", (65 - idade) + year)"
   ]
  },
  {
   "cell_type": "code",
   "execution_count": 31,
   "metadata": {},
   "outputs": [
    {
     "name": "stdout",
     "output_type": "stream",
     "text": [
      "Salário Bruto: 2112.0\n",
      "Salario Líquido: 2048.64 \n",
      "FGTS: 232.32\n"
     ]
    }
   ],
   "source": [
    "# 15\n",
    "# pedindo os dados ao usuario\n",
    "valorHora = float(input(\"Qual o valor da sua hora trabalhada?\"))\n",
    "horaTrab = int(input(\"Quantas horas você trabalhou no mês?\"))\n",
    "# calculando salario bruto\n",
    "bruto = valorHora * horaTrab\n",
    "#calculando o Líquido + fgts\n",
    "if (bruto > 4664.68):\n",
    "    print(f\"Salário Bruto: {bruto}\\nSalario Líquido:\", (bruto * 0.725) - bruto * 0.03, \"\\nFGTS:\", bruto * 0.11)\n",
    "elif (bruto >= 3751.06 and bruto <= 4664.68):\n",
    "    print(f\"Salário Bruto: {bruto}\\nSalario Líquido:\", (bruto * 0.775) - bruto * 0.03, \"\\nFGTS:\", bruto * 0.11)\n",
    "elif (bruto <= 3751.05 and bruto >= 2826.66):\n",
    "    print(f\"Salário Bruto: {bruto}\\nSalario Líquido:\", (bruto * 0.85) - bruto * 0.03, \"\\nFGTS:\", bruto * 0.11)\n",
    "elif (bruto <= 2826.65 and bruto >= 2112.01):\n",
    "    print(f\"Salário Bruto: {bruto}\\nSalario Líquido:\", (bruto * 0.925) - bruto * 0.03, \"\\nFGTS:\", bruto * 0.11)\n",
    "else:\n",
    "    print(f\"Salário Bruto: {bruto}\\nSalario Líquido:\", bruto * 0.97, \"\\nFGTS:\", bruto * 0.11)"
   ]
  }
 ],
 "metadata": {
  "kernelspec": {
   "display_name": "Python 3",
   "language": "python",
   "name": "python3"
  },
  "language_info": {
   "codemirror_mode": {
    "name": "ipython",
    "version": 3
   },
   "file_extension": ".py",
   "mimetype": "text/x-python",
   "name": "python",
   "nbconvert_exporter": "python",
   "pygments_lexer": "ipython3",
   "version": "3.11.9"
  }
 },
 "nbformat": 4,
 "nbformat_minor": 2
}
