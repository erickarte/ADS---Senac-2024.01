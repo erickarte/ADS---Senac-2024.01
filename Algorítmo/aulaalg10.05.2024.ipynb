{
 "cells": [
  {
   "cell_type": "code",
   "execution_count": 1,
   "metadata": {},
   "outputs": [],
   "source": [
    "for produto in range (0, 4):\n",
    "    p = str(input(\"digite o nome do produto:\"))\n",
    "    v = float(input(\"digite o valor do produto:\"))"
   ]
  },
  {
   "cell_type": "code",
   "execution_count": 4,
   "metadata": {},
   "outputs": [
    {
     "name": "stdout",
     "output_type": "stream",
     "text": [
      "estamos no elemento 1\n",
      "estamos no elemento 2\n",
      "estamos no elemento 3\n",
      "estamos no elemento 4\n",
      "estamos no elemento 5\n",
      "estamos no elemento 6\n"
     ]
    }
   ],
   "source": [
    "for elemento in [1, 2, 3, 4, 5, 6]:\n",
    "    print(\"estamos no elemento\",elemento)"
   ]
  },
  {
   "cell_type": "code",
   "execution_count": 6,
   "metadata": {},
   "outputs": [
    {
     "name": "stdout",
     "output_type": "stream",
     "text": [
      "estamos no elemento S\n",
      "estamos no elemento t\n",
      "estamos no elemento r\n",
      "estamos no elemento i\n",
      "estamos no elemento n\n",
      "estamos no elemento g\n"
     ]
    }
   ],
   "source": [
    "for elemento in \"String\":\n",
    "    print(\"estamos no elemento\", elemento)"
   ]
  },
  {
   "cell_type": "code",
   "execution_count": 7,
   "metadata": {},
   "outputs": [
    {
     "name": "stdout",
     "output_type": "stream",
     "text": [
      "estamos no elemento 0\n",
      "estamos no elemento 1\n",
      "estamos no elemento 2\n",
      "estamos no elemento 3\n",
      "estamos no elemento 4\n",
      "estamos no elemento 5\n"
     ]
    }
   ],
   "source": [
    "for elemento in range (len(\"STRING\")):\n",
    "    print(\"estamos no elemento\", elemento)"
   ]
  },
  {
   "cell_type": "code",
   "execution_count": 10,
   "metadata": {},
   "outputs": [],
   "source": [
    "produto = 0\n",
    "while produto < 4:\n",
    "    p = str(input(\"Digite o nome do produto:\"))\n",
    "    v = float(input(\"Digite o valo do produto:\"))\n",
    "    elemento +=1"
   ]
  },
  {
   "cell_type": "code",
   "execution_count": null,
   "metadata": {},
   "outputs": [],
   "source": [
    "elemento = 0\n",
    "while elemento <= len([1, 2, 3, 4, 5, 6]):\n",
    "    print(\"Estamos no elemento\", elemento\n",
    "    elemento +=1)"
   ]
  },
  {
   "cell_type": "code",
   "execution_count": null,
   "metadata": {},
   "outputs": [
    {
     "name": "stdout",
     "output_type": "stream",
     "text": [
      "Estamos no elemento s\n",
      "Estamos no elemento t\n",
      "Estamos no elemento r\n",
      "Estamos no elemento i\n",
      "Estamos no elemento g\n"
     ]
    }
   ],
   "source": [
    "s = \"strig\"\n",
    "indice = 0\n",
    "while indice in range (len(s)):\n",
    "    print (\"Estamos no elemento\", s[indice])\n",
    "    indice+=1"
   ]
  },
  {
   "cell_type": "code",
   "execution_count": 1,
   "metadata": {},
   "outputs": [
    {
     "name": "stdout",
     "output_type": "stream",
     "text": [
      "0 t\n",
      "1 r\n",
      "2 a\n",
      "3 n\n",
      "4 q\n",
      "5 u\n",
      "6 i\n",
      "7 l\n",
      "8 o\n"
     ]
    }
   ],
   "source": [
    "palavra=\"tranquilo\"\n",
    "for indice, letra in enumerate(palavra):\n",
    "    print(indice, letra)"
   ]
  },
  {
   "cell_type": "code",
   "execution_count": 1,
   "metadata": {},
   "outputs": [
    {
     "name": "stdout",
     "output_type": "stream",
     "text": [
      "Oi\n",
      "Oi\n",
      "Oi\n",
      "Oi\n",
      "Oi\n",
      "Oi\n",
      "Oi\n",
      "Oi\n",
      "Oi\n",
      "Oi\n",
      "Oi\n",
      "Oi\n",
      "Oi\n"
     ]
    }
   ],
   "source": [
    "s = \"viva o python\"\n",
    "for ch in s:\n",
    "    print(\"Oi\")"
   ]
  },
  {
   "cell_type": "code",
   "execution_count": 2,
   "metadata": {},
   "outputs": [
    {
     "name": "stdout",
     "output_type": "stream",
     "text": [
      "Oi\n",
      "Oi\n",
      "Oi\n",
      "Oi\n",
      "Oi\n"
     ]
    }
   ],
   "source": [
    "s = \"viva o python\"\n",
    "for ch in s[3:8]:\n",
    "    print(\"Oi\")"
   ]
  },
  {
   "cell_type": "code",
   "execution_count": 11,
   "metadata": {},
   "outputs": [
    {
     "name": "stdout",
     "output_type": "stream",
     "text": [
      "Ao final teremos 5 pares e 5 ímpares\n"
     ]
    }
   ],
   "source": [
    "# iniciando contador\n",
    "qnt_par = 0\n",
    "qnt_impar = 0\n",
    "# pedindo numeros ao usuario\n",
    "for v in range (0, 10):\n",
    "    v = int(input(\"Digite um número inteiro\"))\n",
    "# colocando a condição e incremento\n",
    "    if v%2==0:\n",
    "        qnt_par+=1\n",
    "    else:\n",
    "        qnt_impar+=1\n",
    "# mostrando a contagem final\n",
    "print(\"Ao final teremos\", qnt_par, \"pares e\", qnt_impar, \"ímpares\")"
   ]
  }
 ],
 "metadata": {
  "kernelspec": {
   "display_name": "Python 3",
   "language": "python",
   "name": "python3"
  },
  "language_info": {
   "codemirror_mode": {
    "name": "ipython",
    "version": 3
   },
   "file_extension": ".py",
   "mimetype": "text/x-python",
   "name": "python",
   "nbconvert_exporter": "python",
   "pygments_lexer": "ipython3",
   "version": "3.11.9"
  }
 },
 "nbformat": 4,
 "nbformat_minor": 2
}
